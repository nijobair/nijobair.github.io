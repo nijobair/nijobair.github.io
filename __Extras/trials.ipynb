{
 "cells": [
  {
   "cell_type": "code",
   "execution_count": 1,
   "metadata": {},
   "outputs": [],
   "source": [
    "import pandas as pd\n",
    "import tabulate as tb"
   ]
  },
  {
   "cell_type": "code",
   "execution_count": 2,
   "metadata": {},
   "outputs": [],
   "source": [
    "df = pd.read_csv('C:/Users/dcl/Desktop/1.csv')"
   ]
  },
  {
   "cell_type": "code",
   "execution_count": 3,
   "metadata": {},
   "outputs": [
    {
     "name": "stdout",
     "output_type": "stream",
     "text": [
      "|    | skills   |   demand_count |   avg_associated_salary | bar_chart            |\n",
      "|----|----------|----------------|-------------------------|----------------------|\n",
      "|  0 | sql      |           7291 |                   97237 | !!!!!!!!!!!!!!!!!!!! |\n",
      "|  1 | excel    |           4611 |                   87288 | !!!!!!!!!!!!!        |\n",
      "|  2 | python   |           4330 |                  101397 | !!!!!!!!!!!!         |\n",
      "|  3 | tableau  |           3745 |                   99288 | !!!!!!!!!!           |\n",
      "|  4 | power bi |           2609 |                   97431 | !!!!!!!              |\n",
      "|  5 | r        |           2142 |                  100499 | !!!!!!               |\n"
     ]
    }
   ],
   "source": [
    "print(df.to_markdown(tablefmt='github'))"
   ]
  },
  {
   "cell_type": "code",
   "execution_count": 6,
   "metadata": {},
   "outputs": [
    {
     "name": "stdout",
     "output_type": "stream",
     "text": [
      "PDFs merged successfully!\n"
     ]
    }
   ],
   "source": [
    "from PyPDF2 import PdfMerger\n",
    "\n",
    "# Create a PdfMerger object\n",
    "merger = PdfMerger()\n",
    "\n",
    "# Paths to the PDF files you want to merge\n",
    "pdf1 = \"C:/Users/dcl/Desktop/Bijad.pdf\"\n",
    "pdf2 = \"C:/Users/dcl/Desktop/CV.pdf\"\n",
    "pdf3 = \"C:/Users/dcl/Desktop/Passport.pdf\"\n",
    "pdf4 = \"C:/Users/dcl/Desktop/id.pdf\"\n",
    "\n",
    "# Append both PDFs\n",
    "merger.append(pdf1)\n",
    "merger.append(pdf2)\n",
    "merger.append(pdf3)\n",
    "merger.append(pdf4)\n",
    "\n",
    "# Write the merged PDF to a new file\n",
    "with open(\"C:/Users/dcl/Desktop/Exchange.pdf\", 'wb') as output_file:\n",
    "    merger.write(output_file)\n",
    "\n",
    "# Close the merger\n",
    "merger.close()\n",
    "\n",
    "print(\"PDFs merged successfully!\")\n"
   ]
  },
  {
   "cell_type": "code",
   "execution_count": null,
   "metadata": {},
   "outputs": [
    {
     "name": "stdout",
     "output_type": "stream",
     "text": [
      "Sin 90° is 1. This can be determined using the unit circle representation, where at 90°, the coordinate on the positive y-axis gives a value of 1. Additionally, trigonometric principles involving right triangles support this result by showing how opposing sides relate near 90°, confirming Sin 90° equals 1.\n"
     ]
    }
   ],
   "source": [
    "import requests\n",
    "import json\n",
    "\n",
    "response = requests.post(\n",
    "  url=\"https://openrouter.ai/api/v1/chat/completions\",\n",
    "  headers={\n",
    "    \"Authorization\": \"\",\n",
    "    \"HTTP-Referer\": \"<YOUR_SITE_URL>\", # Optional. Site URL for rankings on openrouter.ai.\n",
    "    \"X-Title\": \"<YOUR_SITE_NAME>\", # Optional. Site title for rankings on openrouter.ai.\n",
    "  },\n",
    "  data=json.dumps({\n",
    "    \"model\": \"deepseek/deepseek-r1-distill-llama-70b:free\", # Optional\n",
    "    \"messages\": [\n",
    "      {\n",
    "        \"role\": \"user\",\n",
    "        \"content\": \"What is sin 90 degree? Keep the answer short. Preferably in one or two sentences.\"\n",
    "      }\n",
    "    ]\n",
    "    \n",
    "  })\n",
    ")\n",
    "\n",
    "print(response.json().get(\"choices\")[0].get(\"message\").get(\"content\"))"
   ]
  },
  {
   "cell_type": "code",
   "execution_count": 1,
   "metadata": {},
   "outputs": [],
   "source": [
    "import random\n",
    "import pandas as pd\n",
    "from datetime import timedelta, datetime\n",
    "\n",
    "start_date = datetime.strptime(\"2023-01-01\", \"%Y-%m-%d\")\n",
    "end_date = datetime.strptime(\"2024-12-31\", \"%Y-%m-%d\")\n",
    "dates = pd.date_range(start_date, end_date, freq='D')\n",
    "\n",
    "data = []\n",
    "\n",
    "for date in dates:\n",
    "    for user_id in range(1, 33):\n",
    "        steps = random.randint(5000, 10000)\n",
    "        calories_burned = random.randint(200, 400)\n",
    "        active_minutes = random.randint(30, 70)\n",
    "        heart_rate = random.randint(60, 90)\n",
    "        weight = round(70 + random.uniform(-0.5, 0.5), 1)  # Random fluctuation around 70kg\n",
    "        data.append([date.strftime(\"%Y-%m-%d\"), user_id, steps, calories_burned, active_minutes, heart_rate, weight])\n",
    "\n",
    "# Convert to DataFrame\n",
    "df = pd.DataFrame(data, columns=[\"Date\", \"UserID\", \"Steps\", \"CaloriesBurned\", \"ActiveMinutes\", \"HeartRate\", \"Weight\"])\n",
    "\n",
    "# Save to CSV\n",
    "df.to_csv(\"daily_activity_data.csv\", index=False)"
   ]
  }
 ],
 "metadata": {
  "kernelspec": {
   "display_name": "Python 3",
   "language": "python",
   "name": "python3"
  },
  "language_info": {
   "codemirror_mode": {
    "name": "ipython",
    "version": 3
   },
   "file_extension": ".py",
   "mimetype": "text/x-python",
   "name": "python",
   "nbconvert_exporter": "python",
   "pygments_lexer": "ipython3",
   "version": "3.12.10"
  }
 },
 "nbformat": 4,
 "nbformat_minor": 2
}

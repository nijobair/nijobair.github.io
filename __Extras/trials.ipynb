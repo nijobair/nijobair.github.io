{
 "cells": [
  {
   "cell_type": "code",
   "execution_count": 1,
   "metadata": {},
   "outputs": [],
   "source": [
    "import pandas as pd\n",
    "import tabulate as tb"
   ]
  },
  {
   "cell_type": "code",
   "execution_count": 2,
   "metadata": {},
   "outputs": [],
   "source": [
    "df = pd.read_csv('C:/Users/dcl/Desktop/1.csv')"
   ]
  },
  {
   "cell_type": "code",
   "execution_count": 3,
   "metadata": {},
   "outputs": [
    {
     "name": "stdout",
     "output_type": "stream",
     "text": [
      "|    | skills   |   demand_count |   avg_associated_salary | bar_chart            |\n",
      "|----|----------|----------------|-------------------------|----------------------|\n",
      "|  0 | sql      |           7291 |                   97237 | !!!!!!!!!!!!!!!!!!!! |\n",
      "|  1 | excel    |           4611 |                   87288 | !!!!!!!!!!!!!        |\n",
      "|  2 | python   |           4330 |                  101397 | !!!!!!!!!!!!         |\n",
      "|  3 | tableau  |           3745 |                   99288 | !!!!!!!!!!           |\n",
      "|  4 | power bi |           2609 |                   97431 | !!!!!!!              |\n",
      "|  5 | r        |           2142 |                  100499 | !!!!!!               |\n"
     ]
    }
   ],
   "source": [
    "print(df.to_markdown(tablefmt='github'))"
   ]
  },
  {
   "cell_type": "code",
   "execution_count": 6,
   "metadata": {},
   "outputs": [
    {
     "name": "stdout",
     "output_type": "stream",
     "text": [
      "PDFs merged successfully!\n"
     ]
    }
   ],
   "source": [
    "from PyPDF2 import PdfMerger\n",
    "\n",
    "# Create a PdfMerger object\n",
    "merger = PdfMerger()\n",
    "\n",
    "# Paths to the PDF files you want to merge\n",
    "pdf1 = \"C:/Users/dcl/Desktop/Bijad.pdf\"\n",
    "pdf2 = \"C:/Users/dcl/Desktop/CV.pdf\"\n",
    "pdf3 = \"C:/Users/dcl/Desktop/Passport.pdf\"\n",
    "pdf4 = \"C:/Users/dcl/Desktop/id.pdf\"\n",
    "\n",
    "# Append both PDFs\n",
    "merger.append(pdf1)\n",
    "merger.append(pdf2)\n",
    "merger.append(pdf3)\n",
    "merger.append(pdf4)\n",
    "\n",
    "# Write the merged PDF to a new file\n",
    "with open(\"C:/Users/dcl/Desktop/Exchange.pdf\", 'wb') as output_file:\n",
    "    merger.write(output_file)\n",
    "\n",
    "# Close the merger\n",
    "merger.close()\n",
    "\n",
    "print(\"PDFs merged successfully!\")\n"
   ]
  }
 ],
 "metadata": {
  "kernelspec": {
   "display_name": "Python 3",
   "language": "python",
   "name": "python3"
  },
  "language_info": {
   "codemirror_mode": {
    "name": "ipython",
    "version": 3
   },
   "file_extension": ".py",
   "mimetype": "text/x-python",
   "name": "python",
   "nbconvert_exporter": "python",
   "pygments_lexer": "ipython3",
   "version": "3.12.7"
  }
 },
 "nbformat": 4,
 "nbformat_minor": 2
}
